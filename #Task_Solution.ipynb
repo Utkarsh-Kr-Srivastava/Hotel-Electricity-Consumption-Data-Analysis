{
 "cells": [
  {
   "cell_type": "code",
   "execution_count": 1,
   "id": "31ed70c0",
   "metadata": {},
   "outputs": [],
   "source": [
    "#importing libraries\n",
    "import numpy as np\n",
    "import pandas as pd\n",
    "import matplotlib.pyplot as plt"
   ]
  },
  {
   "cell_type": "code",
   "execution_count": 2,
   "id": "daa74aa3",
   "metadata": {},
   "outputs": [],
   "source": [
    "#reading the file and converting it to dataframe\n",
    "data = pd.read_excel(r'E:\\DIVYANSH\\B.Tech\\AC_Data.xlsx', parse_dates=[0], index_col=0)"
   ]
  },
  {
   "cell_type": "code",
   "execution_count": 3,
   "id": "aad88050",
   "metadata": {},
   "outputs": [
    {
     "data": {
      "text/html": [
       "<div>\n",
       "<style scoped>\n",
       "    .dataframe tbody tr th:only-of-type {\n",
       "        vertical-align: middle;\n",
       "    }\n",
       "\n",
       "    .dataframe tbody tr th {\n",
       "        vertical-align: top;\n",
       "    }\n",
       "\n",
       "    .dataframe thead th {\n",
       "        text-align: right;\n",
       "    }\n",
       "</style>\n",
       "<table border=\"1\" class=\"dataframe\">\n",
       "  <thead>\n",
       "    <tr style=\"text-align: right;\">\n",
       "      <th></th>\n",
       "      <th>AC 1</th>\n",
       "      <th>AC 2</th>\n",
       "      <th>AC 3</th>\n",
       "      <th>AC 4</th>\n",
       "      <th>AC 5</th>\n",
       "      <th>AC 6</th>\n",
       "      <th>AC 7</th>\n",
       "      <th>AC 8</th>\n",
       "      <th>AC 9</th>\n",
       "      <th>AC 10</th>\n",
       "      <th>AC 11</th>\n",
       "      <th>AC 12</th>\n",
       "      <th>AC 13</th>\n",
       "      <th>AC 14</th>\n",
       "      <th>AC 15</th>\n",
       "      <th>AC 16</th>\n",
       "      <th>AC 17</th>\n",
       "      <th>AC 18</th>\n",
       "    </tr>\n",
       "    <tr>\n",
       "      <th>0</th>\n",
       "      <th></th>\n",
       "      <th></th>\n",
       "      <th></th>\n",
       "      <th></th>\n",
       "      <th></th>\n",
       "      <th></th>\n",
       "      <th></th>\n",
       "      <th></th>\n",
       "      <th></th>\n",
       "      <th></th>\n",
       "      <th></th>\n",
       "      <th></th>\n",
       "      <th></th>\n",
       "      <th></th>\n",
       "      <th></th>\n",
       "      <th></th>\n",
       "      <th></th>\n",
       "      <th></th>\n",
       "    </tr>\n",
       "  </thead>\n",
       "  <tbody>\n",
       "    <tr>\n",
       "      <th>2019-08-01 00:00:00</th>\n",
       "      <td>7.518632</td>\n",
       "      <td>8.788315</td>\n",
       "      <td>0.0</td>\n",
       "      <td>0.0</td>\n",
       "      <td>2.617045</td>\n",
       "      <td>4.079041</td>\n",
       "      <td>2.782276</td>\n",
       "      <td>4.624447</td>\n",
       "      <td>5.222060</td>\n",
       "      <td>2.151238</td>\n",
       "      <td>1.585072</td>\n",
       "      <td>0.560373</td>\n",
       "      <td>3.142941</td>\n",
       "      <td>2.749470</td>\n",
       "      <td>5.417774</td>\n",
       "      <td>4.113460</td>\n",
       "      <td>3.305072</td>\n",
       "      <td>6.735981</td>\n",
       "    </tr>\n",
       "    <tr>\n",
       "      <th>2019-08-01 00:01:00</th>\n",
       "      <td>NaN</td>\n",
       "      <td>NaN</td>\n",
       "      <td>NaN</td>\n",
       "      <td>NaN</td>\n",
       "      <td>NaN</td>\n",
       "      <td>NaN</td>\n",
       "      <td>NaN</td>\n",
       "      <td>NaN</td>\n",
       "      <td>NaN</td>\n",
       "      <td>NaN</td>\n",
       "      <td>NaN</td>\n",
       "      <td>NaN</td>\n",
       "      <td>NaN</td>\n",
       "      <td>NaN</td>\n",
       "      <td>NaN</td>\n",
       "      <td>NaN</td>\n",
       "      <td>NaN</td>\n",
       "      <td>NaN</td>\n",
       "    </tr>\n",
       "    <tr>\n",
       "      <th>2019-08-01 00:02:00</th>\n",
       "      <td>7.426114</td>\n",
       "      <td>8.940615</td>\n",
       "      <td>0.0</td>\n",
       "      <td>0.0</td>\n",
       "      <td>2.581625</td>\n",
       "      <td>3.781231</td>\n",
       "      <td>2.529366</td>\n",
       "      <td>5.057423</td>\n",
       "      <td>5.349465</td>\n",
       "      <td>2.414715</td>\n",
       "      <td>2.168184</td>\n",
       "      <td>1.818730</td>\n",
       "      <td>3.085110</td>\n",
       "      <td>2.720484</td>\n",
       "      <td>3.302422</td>\n",
       "      <td>3.986483</td>\n",
       "      <td>3.220588</td>\n",
       "      <td>6.379500</td>\n",
       "    </tr>\n",
       "    <tr>\n",
       "      <th>2019-08-01 00:03:00</th>\n",
       "      <td>NaN</td>\n",
       "      <td>NaN</td>\n",
       "      <td>NaN</td>\n",
       "      <td>NaN</td>\n",
       "      <td>NaN</td>\n",
       "      <td>NaN</td>\n",
       "      <td>NaN</td>\n",
       "      <td>NaN</td>\n",
       "      <td>NaN</td>\n",
       "      <td>NaN</td>\n",
       "      <td>NaN</td>\n",
       "      <td>NaN</td>\n",
       "      <td>NaN</td>\n",
       "      <td>NaN</td>\n",
       "      <td>NaN</td>\n",
       "      <td>NaN</td>\n",
       "      <td>NaN</td>\n",
       "      <td>NaN</td>\n",
       "    </tr>\n",
       "    <tr>\n",
       "      <th>2019-08-01 00:04:00</th>\n",
       "      <td>7.052986</td>\n",
       "      <td>9.161103</td>\n",
       "      <td>0.0</td>\n",
       "      <td>0.0</td>\n",
       "      <td>2.592095</td>\n",
       "      <td>3.800127</td>\n",
       "      <td>2.332304</td>\n",
       "      <td>6.322521</td>\n",
       "      <td>3.995392</td>\n",
       "      <td>2.237114</td>\n",
       "      <td>3.345624</td>\n",
       "      <td>2.310409</td>\n",
       "      <td>3.132799</td>\n",
       "      <td>2.676861</td>\n",
       "      <td>3.539026</td>\n",
       "      <td>3.797881</td>\n",
       "      <td>3.131560</td>\n",
       "      <td>6.363475</td>\n",
       "    </tr>\n",
       "  </tbody>\n",
       "</table>\n",
       "</div>"
      ],
      "text/plain": [
       "                         AC 1      AC 2  AC 3  AC 4      AC 5      AC 6  \\\n",
       "0                                                                         \n",
       "2019-08-01 00:00:00  7.518632  8.788315   0.0   0.0  2.617045  4.079041   \n",
       "2019-08-01 00:01:00       NaN       NaN   NaN   NaN       NaN       NaN   \n",
       "2019-08-01 00:02:00  7.426114  8.940615   0.0   0.0  2.581625  3.781231   \n",
       "2019-08-01 00:03:00       NaN       NaN   NaN   NaN       NaN       NaN   \n",
       "2019-08-01 00:04:00  7.052986  9.161103   0.0   0.0  2.592095  3.800127   \n",
       "\n",
       "                         AC 7      AC 8      AC 9     AC 10     AC 11  \\\n",
       "0                                                                       \n",
       "2019-08-01 00:00:00  2.782276  4.624447  5.222060  2.151238  1.585072   \n",
       "2019-08-01 00:01:00       NaN       NaN       NaN       NaN       NaN   \n",
       "2019-08-01 00:02:00  2.529366  5.057423  5.349465  2.414715  2.168184   \n",
       "2019-08-01 00:03:00       NaN       NaN       NaN       NaN       NaN   \n",
       "2019-08-01 00:04:00  2.332304  6.322521  3.995392  2.237114  3.345624   \n",
       "\n",
       "                        AC 12     AC 13     AC 14     AC 15     AC 16  \\\n",
       "0                                                                       \n",
       "2019-08-01 00:00:00  0.560373  3.142941  2.749470  5.417774  4.113460   \n",
       "2019-08-01 00:01:00       NaN       NaN       NaN       NaN       NaN   \n",
       "2019-08-01 00:02:00  1.818730  3.085110  2.720484  3.302422  3.986483   \n",
       "2019-08-01 00:03:00       NaN       NaN       NaN       NaN       NaN   \n",
       "2019-08-01 00:04:00  2.310409  3.132799  2.676861  3.539026  3.797881   \n",
       "\n",
       "                        AC 17     AC 18  \n",
       "0                                        \n",
       "2019-08-01 00:00:00  3.305072  6.735981  \n",
       "2019-08-01 00:01:00       NaN       NaN  \n",
       "2019-08-01 00:02:00  3.220588  6.379500  \n",
       "2019-08-01 00:03:00       NaN       NaN  \n",
       "2019-08-01 00:04:00  3.131560  6.363475  "
      ]
     },
     "execution_count": 3,
     "metadata": {},
     "output_type": "execute_result"
    }
   ],
   "source": [
    "#viewing data\n",
    "data.head()"
   ]
  },
  {
   "cell_type": "code",
   "execution_count": 4,
   "id": "0c361b25",
   "metadata": {},
   "outputs": [
    {
     "data": {
      "text/plain": [
       "(87840, 18)"
      ]
     },
     "execution_count": 4,
     "metadata": {},
     "output_type": "execute_result"
    }
   ],
   "source": [
    "#inspecting data\n",
    "data.shape"
   ]
  },
  {
   "cell_type": "code",
   "execution_count": 5,
   "id": "129037d6",
   "metadata": {},
   "outputs": [
    {
     "data": {
      "text/plain": [
       "AC 1     44132\n",
       "AC 2     44129\n",
       "AC 3     44127\n",
       "AC 4     44136\n",
       "AC 5     44124\n",
       "AC 6     44123\n",
       "AC 7     44161\n",
       "AC 8     44136\n",
       "AC 9     44186\n",
       "AC 10    44150\n",
       "AC 11    44170\n",
       "AC 12    44127\n",
       "AC 13    44121\n",
       "AC 14    44144\n",
       "AC 15    44125\n",
       "AC 16    44130\n",
       "AC 17    44126\n",
       "AC 18    44117\n",
       "dtype: int64"
      ]
     },
     "execution_count": 5,
     "metadata": {},
     "output_type": "execute_result"
    }
   ],
   "source": [
    "#checking for null values\n",
    "data.isna().sum()"
   ]
  },
  {
   "cell_type": "code",
   "execution_count": 6,
   "id": "419403fa",
   "metadata": {},
   "outputs": [],
   "source": [
    "#filling the null values with 0\n",
    "data=data.fillna(0)"
   ]
  },
  {
   "cell_type": "code",
   "execution_count": 7,
   "id": "0bbfa36a",
   "metadata": {},
   "outputs": [],
   "source": [
    "#chanching the index name (for convenience)\n",
    "data.index.names=[\"Date\"]"
   ]
  },
  {
   "cell_type": "code",
   "execution_count": 8,
   "id": "ae621987",
   "metadata": {},
   "outputs": [
    {
     "data": {
      "text/plain": [
       "AC 1     0\n",
       "AC 2     0\n",
       "AC 3     0\n",
       "AC 4     0\n",
       "AC 5     0\n",
       "AC 6     0\n",
       "AC 7     0\n",
       "AC 8     0\n",
       "AC 9     0\n",
       "AC 10    0\n",
       "AC 11    0\n",
       "AC 12    0\n",
       "AC 13    0\n",
       "AC 14    0\n",
       "AC 15    0\n",
       "AC 16    0\n",
       "AC 17    0\n",
       "AC 18    0\n",
       "dtype: int64"
      ]
     },
     "execution_count": 8,
     "metadata": {},
     "output_type": "execute_result"
    }
   ],
   "source": [
    "#checking the null values again\n",
    "data.isna().sum()"
   ]
  },
  {
   "cell_type": "code",
   "execution_count": 9,
   "id": "0a2dbf1c",
   "metadata": {},
   "outputs": [
    {
     "data": {
      "text/html": [
       "<div>\n",
       "<style scoped>\n",
       "    .dataframe tbody tr th:only-of-type {\n",
       "        vertical-align: middle;\n",
       "    }\n",
       "\n",
       "    .dataframe tbody tr th {\n",
       "        vertical-align: top;\n",
       "    }\n",
       "\n",
       "    .dataframe thead th {\n",
       "        text-align: right;\n",
       "    }\n",
       "</style>\n",
       "<table border=\"1\" class=\"dataframe\">\n",
       "  <thead>\n",
       "    <tr style=\"text-align: right;\">\n",
       "      <th></th>\n",
       "      <th>AC 1</th>\n",
       "      <th>AC 2</th>\n",
       "      <th>AC 3</th>\n",
       "      <th>AC 4</th>\n",
       "      <th>AC 5</th>\n",
       "      <th>AC 6</th>\n",
       "      <th>AC 7</th>\n",
       "      <th>AC 8</th>\n",
       "      <th>AC 9</th>\n",
       "      <th>AC 10</th>\n",
       "      <th>AC 11</th>\n",
       "      <th>AC 12</th>\n",
       "      <th>AC 13</th>\n",
       "      <th>AC 14</th>\n",
       "      <th>AC 15</th>\n",
       "      <th>AC 16</th>\n",
       "      <th>AC 17</th>\n",
       "      <th>AC 18</th>\n",
       "    </tr>\n",
       "  </thead>\n",
       "  <tbody>\n",
       "    <tr>\n",
       "      <th>count</th>\n",
       "      <td>87840.000000</td>\n",
       "      <td>87840.000000</td>\n",
       "      <td>87840.000000</td>\n",
       "      <td>87840.000000</td>\n",
       "      <td>87840.000000</td>\n",
       "      <td>87840.000000</td>\n",
       "      <td>87840.000000</td>\n",
       "      <td>87840.000000</td>\n",
       "      <td>87840.000000</td>\n",
       "      <td>87840.000000</td>\n",
       "      <td>87840.000000</td>\n",
       "      <td>87840.000000</td>\n",
       "      <td>87840.000000</td>\n",
       "      <td>87840.000000</td>\n",
       "      <td>87840.000000</td>\n",
       "      <td>87840.000000</td>\n",
       "      <td>87840.000000</td>\n",
       "      <td>87840.000000</td>\n",
       "    </tr>\n",
       "    <tr>\n",
       "      <th>mean</th>\n",
       "      <td>1.183942</td>\n",
       "      <td>1.925241</td>\n",
       "      <td>1.278153</td>\n",
       "      <td>1.191689</td>\n",
       "      <td>0.707548</td>\n",
       "      <td>1.253249</td>\n",
       "      <td>1.482263</td>\n",
       "      <td>1.268088</td>\n",
       "      <td>1.582548</td>\n",
       "      <td>0.765144</td>\n",
       "      <td>1.196223</td>\n",
       "      <td>1.343457</td>\n",
       "      <td>2.130153</td>\n",
       "      <td>1.451122</td>\n",
       "      <td>2.013698</td>\n",
       "      <td>1.393331</td>\n",
       "      <td>2.099595</td>\n",
       "      <td>3.216844</td>\n",
       "    </tr>\n",
       "    <tr>\n",
       "      <th>std</th>\n",
       "      <td>1.998665</td>\n",
       "      <td>2.639219</td>\n",
       "      <td>1.658396</td>\n",
       "      <td>1.744067</td>\n",
       "      <td>0.893445</td>\n",
       "      <td>1.717361</td>\n",
       "      <td>1.816867</td>\n",
       "      <td>1.658347</td>\n",
       "      <td>1.920068</td>\n",
       "      <td>0.908466</td>\n",
       "      <td>1.627471</td>\n",
       "      <td>1.687689</td>\n",
       "      <td>2.505497</td>\n",
       "      <td>1.783365</td>\n",
       "      <td>2.473354</td>\n",
       "      <td>1.801074</td>\n",
       "      <td>2.253949</td>\n",
       "      <td>3.621988</td>\n",
       "    </tr>\n",
       "    <tr>\n",
       "      <th>min</th>\n",
       "      <td>0.000000</td>\n",
       "      <td>0.000000</td>\n",
       "      <td>0.000000</td>\n",
       "      <td>0.000000</td>\n",
       "      <td>0.000000</td>\n",
       "      <td>0.000000</td>\n",
       "      <td>0.000000</td>\n",
       "      <td>0.000000</td>\n",
       "      <td>0.000000</td>\n",
       "      <td>0.000000</td>\n",
       "      <td>0.000000</td>\n",
       "      <td>0.000000</td>\n",
       "      <td>0.000000</td>\n",
       "      <td>0.000000</td>\n",
       "      <td>0.000000</td>\n",
       "      <td>0.000000</td>\n",
       "      <td>0.000000</td>\n",
       "      <td>0.000000</td>\n",
       "    </tr>\n",
       "    <tr>\n",
       "      <th>25%</th>\n",
       "      <td>0.000000</td>\n",
       "      <td>0.000000</td>\n",
       "      <td>0.000000</td>\n",
       "      <td>0.000000</td>\n",
       "      <td>0.000000</td>\n",
       "      <td>0.000000</td>\n",
       "      <td>0.000000</td>\n",
       "      <td>0.000000</td>\n",
       "      <td>0.000000</td>\n",
       "      <td>0.000000</td>\n",
       "      <td>0.000000</td>\n",
       "      <td>0.000000</td>\n",
       "      <td>0.000000</td>\n",
       "      <td>0.000000</td>\n",
       "      <td>0.000000</td>\n",
       "      <td>0.000000</td>\n",
       "      <td>0.000000</td>\n",
       "      <td>0.000000</td>\n",
       "    </tr>\n",
       "    <tr>\n",
       "      <th>50%</th>\n",
       "      <td>0.000000</td>\n",
       "      <td>0.000000</td>\n",
       "      <td>0.000000</td>\n",
       "      <td>0.000000</td>\n",
       "      <td>0.000000</td>\n",
       "      <td>0.000000</td>\n",
       "      <td>0.000000</td>\n",
       "      <td>0.000000</td>\n",
       "      <td>0.000000</td>\n",
       "      <td>0.000000</td>\n",
       "      <td>0.000000</td>\n",
       "      <td>0.000000</td>\n",
       "      <td>0.000000</td>\n",
       "      <td>0.000000</td>\n",
       "      <td>0.000000</td>\n",
       "      <td>0.000000</td>\n",
       "      <td>0.000000</td>\n",
       "      <td>0.000000</td>\n",
       "    </tr>\n",
       "    <tr>\n",
       "      <th>75%</th>\n",
       "      <td>2.081188</td>\n",
       "      <td>3.779844</td>\n",
       "      <td>2.480290</td>\n",
       "      <td>2.300950</td>\n",
       "      <td>1.376693</td>\n",
       "      <td>2.656701</td>\n",
       "      <td>2.996157</td>\n",
       "      <td>2.601819</td>\n",
       "      <td>3.072061</td>\n",
       "      <td>1.500432</td>\n",
       "      <td>2.342870</td>\n",
       "      <td>2.719761</td>\n",
       "      <td>4.208258</td>\n",
       "      <td>2.778634</td>\n",
       "      <td>3.991734</td>\n",
       "      <td>2.665481</td>\n",
       "      <td>4.607963</td>\n",
       "      <td>7.120772</td>\n",
       "    </tr>\n",
       "    <tr>\n",
       "      <th>max</th>\n",
       "      <td>11.194789</td>\n",
       "      <td>11.147141</td>\n",
       "      <td>8.430909</td>\n",
       "      <td>9.879500</td>\n",
       "      <td>5.495358</td>\n",
       "      <td>9.929291</td>\n",
       "      <td>9.356776</td>\n",
       "      <td>9.331506</td>\n",
       "      <td>10.026747</td>\n",
       "      <td>4.625030</td>\n",
       "      <td>10.363151</td>\n",
       "      <td>9.887306</td>\n",
       "      <td>9.796393</td>\n",
       "      <td>9.054969</td>\n",
       "      <td>10.349998</td>\n",
       "      <td>10.654430</td>\n",
       "      <td>5.950261</td>\n",
       "      <td>11.040031</td>\n",
       "    </tr>\n",
       "  </tbody>\n",
       "</table>\n",
       "</div>"
      ],
      "text/plain": [
       "               AC 1          AC 2          AC 3          AC 4          AC 5  \\\n",
       "count  87840.000000  87840.000000  87840.000000  87840.000000  87840.000000   \n",
       "mean       1.183942      1.925241      1.278153      1.191689      0.707548   \n",
       "std        1.998665      2.639219      1.658396      1.744067      0.893445   \n",
       "min        0.000000      0.000000      0.000000      0.000000      0.000000   \n",
       "25%        0.000000      0.000000      0.000000      0.000000      0.000000   \n",
       "50%        0.000000      0.000000      0.000000      0.000000      0.000000   \n",
       "75%        2.081188      3.779844      2.480290      2.300950      1.376693   \n",
       "max       11.194789     11.147141      8.430909      9.879500      5.495358   \n",
       "\n",
       "               AC 6          AC 7          AC 8          AC 9         AC 10  \\\n",
       "count  87840.000000  87840.000000  87840.000000  87840.000000  87840.000000   \n",
       "mean       1.253249      1.482263      1.268088      1.582548      0.765144   \n",
       "std        1.717361      1.816867      1.658347      1.920068      0.908466   \n",
       "min        0.000000      0.000000      0.000000      0.000000      0.000000   \n",
       "25%        0.000000      0.000000      0.000000      0.000000      0.000000   \n",
       "50%        0.000000      0.000000      0.000000      0.000000      0.000000   \n",
       "75%        2.656701      2.996157      2.601819      3.072061      1.500432   \n",
       "max        9.929291      9.356776      9.331506     10.026747      4.625030   \n",
       "\n",
       "              AC 11         AC 12         AC 13         AC 14         AC 15  \\\n",
       "count  87840.000000  87840.000000  87840.000000  87840.000000  87840.000000   \n",
       "mean       1.196223      1.343457      2.130153      1.451122      2.013698   \n",
       "std        1.627471      1.687689      2.505497      1.783365      2.473354   \n",
       "min        0.000000      0.000000      0.000000      0.000000      0.000000   \n",
       "25%        0.000000      0.000000      0.000000      0.000000      0.000000   \n",
       "50%        0.000000      0.000000      0.000000      0.000000      0.000000   \n",
       "75%        2.342870      2.719761      4.208258      2.778634      3.991734   \n",
       "max       10.363151      9.887306      9.796393      9.054969     10.349998   \n",
       "\n",
       "              AC 16         AC 17         AC 18  \n",
       "count  87840.000000  87840.000000  87840.000000  \n",
       "mean       1.393331      2.099595      3.216844  \n",
       "std        1.801074      2.253949      3.621988  \n",
       "min        0.000000      0.000000      0.000000  \n",
       "25%        0.000000      0.000000      0.000000  \n",
       "50%        0.000000      0.000000      0.000000  \n",
       "75%        2.665481      4.607963      7.120772  \n",
       "max       10.654430      5.950261     11.040031  "
      ]
     },
     "execution_count": 9,
     "metadata": {},
     "output_type": "execute_result"
    }
   ],
   "source": [
    "#checking data properties\n",
    "data.describe()"
   ]
  },
  {
   "cell_type": "code",
   "execution_count": 10,
   "id": "ca1ad9ba",
   "metadata": {},
   "outputs": [
    {
     "data": {
      "text/plain": [
       "AC 1     float64\n",
       "AC 2     float64\n",
       "AC 3     float64\n",
       "AC 4     float64\n",
       "AC 5     float64\n",
       "AC 6     float64\n",
       "AC 7     float64\n",
       "AC 8     float64\n",
       "AC 9     float64\n",
       "AC 10    float64\n",
       "AC 11    float64\n",
       "AC 12    float64\n",
       "AC 13    float64\n",
       "AC 14    float64\n",
       "AC 15    float64\n",
       "AC 16    float64\n",
       "AC 17    float64\n",
       "AC 18    float64\n",
       "dtype: object"
      ]
     },
     "execution_count": 10,
     "metadata": {},
     "output_type": "execute_result"
    }
   ],
   "source": [
    "#checking datatype of column\n",
    "data.dtypes"
   ]
  },
  {
   "cell_type": "code",
   "execution_count": 11,
   "id": "32408f42",
   "metadata": {},
   "outputs": [
    {
     "data": {
      "text/plain": [
       "DatetimeIndex(['2019-08-01 00:00:00', '2019-08-01 00:01:00',\n",
       "               '2019-08-01 00:02:00', '2019-08-01 00:03:00',\n",
       "               '2019-08-01 00:04:00', '2019-08-01 00:05:00',\n",
       "               '2019-08-01 00:06:00', '2019-08-01 00:07:00',\n",
       "               '2019-08-01 00:08:00', '2019-08-01 00:09:00',\n",
       "               ...\n",
       "               '2019-09-30 23:50:00', '2019-09-30 23:51:00',\n",
       "               '2019-09-30 23:52:00', '2019-09-30 23:53:00',\n",
       "               '2019-09-30 23:54:00', '2019-09-30 23:55:00',\n",
       "               '2019-09-30 23:56:00', '2019-09-30 23:57:00',\n",
       "               '2019-09-30 23:58:00', '2019-09-30 23:59:00'],\n",
       "              dtype='datetime64[ns]', name='Date', length=87840, freq=None)"
      ]
     },
     "execution_count": 11,
     "metadata": {},
     "output_type": "execute_result"
    }
   ],
   "source": [
    "#checking index\n",
    "data.index"
   ]
  },
  {
   "cell_type": "markdown",
   "id": "a26c6342",
   "metadata": {},
   "source": [
    "# 1. Identify patterns/trends in the data?"
   ]
  },
  {
   "cell_type": "code",
   "execution_count": 12,
   "id": "d71c81d9",
   "metadata": {},
   "outputs": [
    {
     "data": {
      "text/plain": [
       "<AxesSubplot:xlabel='ACs', ylabel='Mean power consumption'>"
      ]
     },
     "execution_count": 12,
     "metadata": {},
     "output_type": "execute_result"
    },
    {
     "data": {
      "image/png": "[encoded data removed]",
      "text/plain": [
       "<Figure size 1296x288 with 1 Axes>"
      ]
     },
     "metadata": {
      "needs_background": "light"
     },
     "output_type": "display_data"
    }
   ],
   "source": [
    "#creating line graph for mean power consumption by each AC\n",
    "plt.xlabel(\"ACs\")\n",
    "plt.ylabel(\"Mean power consumption\")\n",
    "data.mean().plot(figsize=(18,4))"
   ]
  },
  {
   "cell_type": "markdown",
   "id": "2d0292e8",
   "metadata": {},
   "source": [
    "This shows the mean power consumption by each AC."
   ]
  },
  {
   "cell_type": "code",
   "execution_count": 13,
   "id": "28551d88",
   "metadata": {},
   "outputs": [],
   "source": [
    "#creating a new dataframe for august power consumption\n",
    "df_aug=data.loc[\"2019-08\"]"
   ]
  },
  {
   "cell_type": "code",
   "execution_count": 14,
   "id": "4da36928",
   "metadata": {},
   "outputs": [
    {
     "data": {
      "text/plain": [
       "(44640, 18)"
      ]
     },
     "execution_count": 14,
     "metadata": {},
     "output_type": "execute_result"
    }
   ],
   "source": [
    "#checking shape of the dataframe for august\n",
    "df_aug.shape"
   ]
  },
  {
   "cell_type": "code",
   "execution_count": 15,
   "id": "68a0adbc",
   "metadata": {},
   "outputs": [
    {
     "data": {
      "text/plain": [
       "<AxesSubplot:xlabel='ACs', ylabel='August total power consumption'>"
      ]
     },
     "execution_count": 15,
     "metadata": {},
     "output_type": "execute_result"
    },
    {
     "data": {
      "image/png": "[encoded data removed]",
      "text/plain": [
       "<Figure size 1296x288 with 1 Axes>"
      ]
     },
     "metadata": {
      "needs_background": "light"
     },
     "output_type": "display_data"
    }
   ],
   "source": [
    "#getting the sum of power consumption by each AC in August\n",
    "plt.xlabel(\"ACs\")\n",
    "plt.ylabel(\"August total power consumption\")\n",
    "df_power_aug=df_aug.sum()\n",
    "df_power_aug.plot.bar(figsize=(18, 4))"
   ]
  },
  {
   "cell_type": "markdown",
   "id": "635e9072",
   "metadata": {},
   "source": [
    "This diagram shows the per AC power consumption in AUGUST."
   ]
  },
  {
   "cell_type": "code",
   "execution_count": 16,
   "id": "9319ddfd",
   "metadata": {},
   "outputs": [],
   "source": [
    "#creating a new dataframe for september power consumption\n",
    "df_sep=data.loc[\"2019-09\"]"
   ]
  },
  {
   "cell_type": "code",
   "execution_count": 17,
   "id": "120abf29",
   "metadata": {},
   "outputs": [
    {
     "data": {
      "text/plain": [
       "(43200, 18)"
      ]
     },
     "execution_count": 17,
     "metadata": {},
     "output_type": "execute_result"
    }
   ],
   "source": [
    "#checking shape of the dataframe for September\n",
    "df_sep.shape"
   ]
  },
  {
   "cell_type": "code",
   "execution_count": 18,
   "id": "0e28a67b",
   "metadata": {},
   "outputs": [
    {
     "data": {
      "text/plain": [
       "<AxesSubplot:xlabel='ACs', ylabel='September total power consumption'>"
      ]
     },
     "execution_count": 18,
     "metadata": {},
     "output_type": "execute_result"
    },
    {
     "data": {
      "image/png": "[encoded data removed]",
      "text/plain": [
       "<Figure size 1296x288 with 1 Axes>"
      ]
     },
     "metadata": {
      "needs_background": "light"
     },
     "output_type": "display_data"
    }
   ],
   "source": [
    "#getting the sum of power consumption by each AC in September\n",
    "plt.xlabel(\"ACs\")\n",
    "plt.ylabel(\"September total power consumption\")\n",
    "df_power_sept=df_sep.sum()\n",
    "df_power_sept.plot.bar(figsize=(18, 4))"
   ]
  },
  {
   "cell_type": "markdown",
   "id": "f2efd309",
   "metadata": {},
   "source": [
    "This diagram shows the per AC power consumption in SEPTEMBER."
   ]
  },
  {
   "cell_type": "code",
   "execution_count": 19,
   "id": "f0073d05",
   "metadata": {},
   "outputs": [],
   "source": [
    "#Creating new column of \"Total power consumption\"\n",
    "data[\"total power consumption sum\"] = data.sum(axis=1)"
   ]
  },
  {
   "cell_type": "code",
   "execution_count": 20,
   "id": "fea20f8b",
   "metadata": {},
   "outputs": [
    {
     "data": {
      "text/html": [
       "<div>\n",
       "<style scoped>\n",
       "    .dataframe tbody tr th:only-of-type {\n",
       "        vertical-align: middle;\n",
       "    }\n",
       "\n",
       "    .dataframe tbody tr th {\n",
       "        vertical-align: top;\n",
       "    }\n",
       "\n",
       "    .dataframe thead th {\n",
       "        text-align: right;\n",
       "    }\n",
       "</style>\n",
       "<table border=\"1\" class=\"dataframe\">\n",
       "  <thead>\n",
       "    <tr style=\"text-align: right;\">\n",
       "      <th></th>\n",
       "      <th>AC 1</th>\n",
       "      <th>AC 2</th>\n",
       "      <th>AC 3</th>\n",
       "      <th>AC 4</th>\n",
       "      <th>AC 5</th>\n",
       "      <th>AC 6</th>\n",
       "      <th>AC 7</th>\n",
       "      <th>AC 8</th>\n",
       "      <th>AC 9</th>\n",
       "      <th>AC 10</th>\n",
       "      <th>AC 11</th>\n",
       "      <th>AC 12</th>\n",
       "      <th>AC 13</th>\n",
       "      <th>AC 14</th>\n",
       "      <th>AC 15</th>\n",
       "      <th>AC 16</th>\n",
       "      <th>AC 17</th>\n",
       "      <th>AC 18</th>\n",
       "      <th>total power consumption sum</th>\n",
       "    </tr>\n",
       "    <tr>\n",
       "      <th>Date</th>\n",
       "      <th></th>\n",
       "      <th></th>\n",
       "      <th></th>\n",
       "      <th></th>\n",
       "      <th></th>\n",
       "      <th></th>\n",
       "      <th></th>\n",
       "      <th></th>\n",
       "      <th></th>\n",
       "      <th></th>\n",
       "      <th></th>\n",
       "      <th></th>\n",
       "      <th></th>\n",
       "      <th></th>\n",
       "      <th></th>\n",
       "      <th></th>\n",
       "      <th></th>\n",
       "      <th></th>\n",
       "      <th></th>\n",
       "    </tr>\n",
       "  </thead>\n",
       "  <tbody>\n",
       "    <tr>\n",
       "      <th>2019-08-01 00:00:00</th>\n",
       "      <td>7.518632</td>\n",
       "      <td>8.788315</td>\n",
       "      <td>0.0</td>\n",
       "      <td>0.0</td>\n",
       "      <td>2.617045</td>\n",
       "      <td>4.079041</td>\n",
       "      <td>2.782276</td>\n",
       "      <td>4.624447</td>\n",
       "      <td>5.222060</td>\n",
       "      <td>2.151238</td>\n",
       "      <td>1.585072</td>\n",
       "      <td>0.560373</td>\n",
       "      <td>3.142941</td>\n",
       "      <td>2.749470</td>\n",
       "      <td>5.417774</td>\n",
       "      <td>4.113460</td>\n",
       "      <td>3.305072</td>\n",
       "      <td>6.735981</td>\n",
       "      <td>65.393197</td>\n",
       "    </tr>\n",
       "    <tr>\n",
       "      <th>2019-08-01 00:01:00</th>\n",
       "      <td>0.000000</td>\n",
       "      <td>0.000000</td>\n",
       "      <td>0.0</td>\n",
       "      <td>0.0</td>\n",
       "      <td>0.000000</td>\n",
       "      <td>0.000000</td>\n",
       "      <td>0.000000</td>\n",
       "      <td>0.000000</td>\n",
       "      <td>0.000000</td>\n",
       "      <td>0.000000</td>\n",
       "      <td>0.000000</td>\n",
       "      <td>0.000000</td>\n",
       "      <td>0.000000</td>\n",
       "      <td>0.000000</td>\n",
       "      <td>0.000000</td>\n",
       "      <td>0.000000</td>\n",
       "      <td>0.000000</td>\n",
       "      <td>0.000000</td>\n",
       "      <td>0.000000</td>\n",
       "    </tr>\n",
       "    <tr>\n",
       "      <th>2019-08-01 00:02:00</th>\n",
       "      <td>7.426114</td>\n",
       "      <td>8.940615</td>\n",
       "      <td>0.0</td>\n",
       "      <td>0.0</td>\n",
       "      <td>2.581625</td>\n",
       "      <td>3.781231</td>\n",
       "      <td>2.529366</td>\n",
       "      <td>5.057423</td>\n",
       "      <td>5.349465</td>\n",
       "      <td>2.414715</td>\n",
       "      <td>2.168184</td>\n",
       "      <td>1.818730</td>\n",
       "      <td>3.085110</td>\n",
       "      <td>2.720484</td>\n",
       "      <td>3.302422</td>\n",
       "      <td>3.986483</td>\n",
       "      <td>3.220588</td>\n",
       "      <td>6.379500</td>\n",
       "      <td>64.762056</td>\n",
       "    </tr>\n",
       "    <tr>\n",
       "      <th>2019-08-01 00:03:00</th>\n",
       "      <td>0.000000</td>\n",
       "      <td>0.000000</td>\n",
       "      <td>0.0</td>\n",
       "      <td>0.0</td>\n",
       "      <td>0.000000</td>\n",
       "      <td>0.000000</td>\n",
       "      <td>0.000000</td>\n",
       "      <td>0.000000</td>\n",
       "      <td>0.000000</td>\n",
       "      <td>0.000000</td>\n",
       "      <td>0.000000</td>\n",
       "      <td>0.000000</td>\n",
       "      <td>0.000000</td>\n",
       "      <td>0.000000</td>\n",
       "      <td>0.000000</td>\n",
       "      <td>0.000000</td>\n",
       "      <td>0.000000</td>\n",
       "      <td>0.000000</td>\n",
       "      <td>0.000000</td>\n",
       "    </tr>\n",
       "    <tr>\n",
       "      <th>2019-08-01 00:04:00</th>\n",
       "      <td>7.052986</td>\n",
       "      <td>9.161103</td>\n",
       "      <td>0.0</td>\n",
       "      <td>0.0</td>\n",
       "      <td>2.592095</td>\n",
       "      <td>3.800127</td>\n",
       "      <td>2.332304</td>\n",
       "      <td>6.322521</td>\n",
       "      <td>3.995392</td>\n",
       "      <td>2.237114</td>\n",
       "      <td>3.345624</td>\n",
       "      <td>2.310409</td>\n",
       "      <td>3.132799</td>\n",
       "      <td>2.676861</td>\n",
       "      <td>3.539026</td>\n",
       "      <td>3.797881</td>\n",
       "      <td>3.131560</td>\n",
       "      <td>6.363475</td>\n",
       "      <td>65.791277</td>\n",
       "    </tr>\n",
       "  </tbody>\n",
       "</table>\n",
       "</div>"
      ],
      "text/plain": [
       "                         AC 1      AC 2  AC 3  AC 4      AC 5      AC 6  \\\n",
       "Date                                                                      \n",
       "2019-08-01 00:00:00  7.518632  8.788315   0.0   0.0  2.617045  4.079041   \n",
       "2019-08-01 00:01:00  0.000000  0.000000   0.0   0.0  0.000000  0.000000   \n",
       "2019-08-01 00:02:00  7.426114  8.940615   0.0   0.0  2.581625  3.781231   \n",
       "2019-08-01 00:03:00  0.000000  0.000000   0.0   0.0  0.000000  0.000000   \n",
       "2019-08-01 00:04:00  7.052986  9.161103   0.0   0.0  2.592095  3.800127   \n",
       "\n",
       "                         AC 7      AC 8      AC 9     AC 10     AC 11  \\\n",
       "Date                                                                    \n",
       "2019-08-01 00:00:00  2.782276  4.624447  5.222060  2.151238  1.585072   \n",
       "2019-08-01 00:01:00  0.000000  0.000000  0.000000  0.000000  0.000000   \n",
       "2019-08-01 00:02:00  2.529366  5.057423  5.349465  2.414715  2.168184   \n",
       "2019-08-01 00:03:00  0.000000  0.000000  0.000000  0.000000  0.000000   \n",
       "2019-08-01 00:04:00  2.332304  6.322521  3.995392  2.237114  3.345624   \n",
       "\n",
       "                        AC 12     AC 13     AC 14     AC 15     AC 16  \\\n",
       "Date                                                                    \n",
       "2019-08-01 00:00:00  0.560373  3.142941  2.749470  5.417774  4.113460   \n",
       "2019-08-01 00:01:00  0.000000  0.000000  0.000000  0.000000  0.000000   \n",
       "2019-08-01 00:02:00  1.818730  3.085110  2.720484  3.302422  3.986483   \n",
       "2019-08-01 00:03:00  0.000000  0.000000  0.000000  0.000000  0.000000   \n",
       "2019-08-01 00:04:00  2.310409  3.132799  2.676861  3.539026  3.797881   \n",
       "\n",
       "                        AC 17     AC 18  total power consumption sum  \n",
       "Date                                                                  \n",
       "2019-08-01 00:00:00  3.305072  6.735981                    65.393197  \n",
       "2019-08-01 00:01:00  0.000000  0.000000                     0.000000  \n",
       "2019-08-01 00:02:00  3.220588  6.379500                    64.762056  \n",
       "2019-08-01 00:03:00  0.000000  0.000000                     0.000000  \n",
       "2019-08-01 00:04:00  3.131560  6.363475                    65.791277  "
      ]
     },
     "execution_count": 20,
     "metadata": {},
     "output_type": "execute_result"
    }
   ],
   "source": [
    "#viewing data\n",
    "data.head()"
   ]
  },
  {
   "cell_type": "code",
   "execution_count": 21,
   "id": "0f497b19",
   "metadata": {},
   "outputs": [
    {
     "data": {
      "text/plain": [
       "<AxesSubplot:xlabel='Date'>"
      ]
     },
     "execution_count": 21,
     "metadata": {},
     "output_type": "execute_result"
    },
    {
     "data": {
      "image/png": "[encoded data removed]",
      "text/plain": [
       "<Figure size 1296x432 with 1 Axes>"
      ]
     },
     "metadata": {
      "needs_background": "light"
     },
     "output_type": "display_data"
    }
   ],
   "source": [
    "#ploting \"total power consumption\" with time\n",
    "data.plot(y='total power consumption sum',use_index=True, kind='line', figsize=(18,6))"
   ]
  },
  {
   "cell_type": "markdown",
   "id": "e53dc7a0",
   "metadata": {},
   "source": [
    "Here we can observe the two months trend of the power consumption."
   ]
  },
  {
   "cell_type": "code",
   "execution_count": 22,
   "id": "85850ccb",
   "metadata": {},
   "outputs": [],
   "source": [
    "#droping the newly created \"total power consumption\" column\n",
    "data_Q2=data.drop(['total power consumption sum'], axis = 1)"
   ]
  },
  {
   "cell_type": "markdown",
   "id": "5c942271",
   "metadata": {},
   "source": [
    "# 2. Which AC was used the most/least?"
   ]
  },
  {
   "cell_type": "code",
   "execution_count": 23,
   "id": "130b8dcb",
   "metadata": {},
   "outputs": [],
   "source": [
    "#finding the sum of power usage by ACs\n",
    "power_usage = data_Q2.sum()\n",
    "most_power_usage = power_usage.nlargest(1)\n",
    "least_power_usage = power_usage.nsmallest(1)"
   ]
  },
  {
   "cell_type": "markdown",
   "id": "751100ab",
   "metadata": {},
   "source": [
    "Most and Least power consumption in both month August and September"
   ]
  },
  {
   "cell_type": "code",
   "execution_count": 24,
   "id": "76a57b77",
   "metadata": {},
   "outputs": [
    {
     "data": {
      "text/plain": [
       "AC 18    282567.569146\n",
       "dtype: float64"
      ]
     },
     "execution_count": 24,
     "metadata": {},
     "output_type": "execute_result"
    }
   ],
   "source": [
    "#fetching AC with most power usage (aug+sept)\n",
    "most_power_usage"
   ]
  },
  {
   "cell_type": "code",
   "execution_count": 25,
   "id": "39c1d988",
   "metadata": {},
   "outputs": [
    {
     "data": {
      "text/plain": [
       "AC 5    62151.007653\n",
       "dtype: float64"
      ]
     },
     "execution_count": 25,
     "metadata": {},
     "output_type": "execute_result"
    }
   ],
   "source": [
    "#fetching AC with least power usage(aug+sept)\n",
    "least_power_usage"
   ]
  },
  {
   "cell_type": "markdown",
   "id": "e636c030",
   "metadata": {},
   "source": [
    "Most and Least power consumption in month August"
   ]
  },
  {
   "cell_type": "code",
   "execution_count": 26,
   "id": "4a859647",
   "metadata": {},
   "outputs": [
    {
     "data": {
      "text/plain": [
       "AC 18    144831.865848\n",
       "dtype: float64"
      ]
     },
     "execution_count": 26,
     "metadata": {},
     "output_type": "execute_result"
    }
   ],
   "source": [
    "#fetching AC with most power usage(aug)\n",
    "df_power_aug.nlargest(1)"
   ]
  },
  {
   "cell_type": "code",
   "execution_count": 27,
   "id": "8d42e4d3",
   "metadata": {},
   "outputs": [
    {
     "data": {
      "text/plain": [
       "AC 5    29964.79637\n",
       "dtype: float64"
      ]
     },
     "execution_count": 27,
     "metadata": {},
     "output_type": "execute_result"
    }
   ],
   "source": [
    "#fetching AC with least power usage(aug)\n",
    "df_power_aug.nsmallest(1)"
   ]
  },
  {
   "cell_type": "code",
   "execution_count": 28,
   "id": "4693447e",
   "metadata": {},
   "outputs": [
    {
     "data": {
      "text/plain": [
       "AC 18    137735.703297\n",
       "dtype: float64"
      ]
     },
     "execution_count": 28,
     "metadata": {},
     "output_type": "execute_result"
    }
   ],
   "source": [
    "#fetching AC with most power usage(sept)\n",
    "df_power_sept.nlargest(1)"
   ]
  },
  {
   "cell_type": "code",
   "execution_count": 29,
   "id": "7b4bfa12",
   "metadata": {},
   "outputs": [
    {
     "data": {
      "text/plain": [
       "AC 10    31402.627272\n",
       "dtype: float64"
      ]
     },
     "execution_count": 29,
     "metadata": {},
     "output_type": "execute_result"
    }
   ],
   "source": [
    "#fetching AC with least power usage(sept)\n",
    "df_power_sept.nsmallest(1)"
   ]
  },
  {
   "cell_type": "markdown",
   "id": "97f8101e",
   "metadata": {},
   "source": [
    "Ans 2. Hence, AC18 has used most power and AC5 has used least power in combined month August and September.\n",
    "\n",
    "In month of August most power was consumed by AC18 (144831.86) and least power was consumed by AC 5 (29964.796).\n",
    "And, in month of September most power was consumed by AC18 (137735.703) and least power was consumed by AC 10 (31402.63)."
   ]
  },
  {
   "cell_type": "markdown",
   "id": "a02629dd",
   "metadata": {},
   "source": [
    "# 3. Relate this power data with the outside temperature of Gurgaon."
   ]
  },
  {
   "cell_type": "markdown",
   "id": "ce79a050",
   "metadata": {},
   "source": [
    "I downloaded the weather data of Gurgaon from Aug 1,2019 to sep 30, 2019 from a website:\n",
    "https://www.visualcrossing.com/weather/weather-data-services\n",
    "\n",
    "Then I tried to correlate the daily power consumtion data of the hotel with outside temperature data of Gurgaon."
   ]
  },
  {
   "cell_type": "code",
   "execution_count": 30,
   "id": "51fac9cd",
   "metadata": {},
   "outputs": [],
   "source": [
    "#Uploading a new dataset of weather data\n",
    "df=pd.read_excel(r\"E:\\DIVYANSH\\B.Tech\\Comparison_of_AC_power_usage_with_outside_temperature.xlsx\")"
   ]
  },
  {
   "cell_type": "code",
   "execution_count": 31,
   "id": "4b288427",
   "metadata": {},
   "outputs": [
    {
     "data": {
      "text/html": [
       "<div>\n",
       "<style scoped>\n",
       "    .dataframe tbody tr th:only-of-type {\n",
       "        vertical-align: middle;\n",
       "    }\n",
       "\n",
       "    .dataframe tbody tr th {\n",
       "        vertical-align: top;\n",
       "    }\n",
       "\n",
       "    .dataframe thead th {\n",
       "        text-align: right;\n",
       "    }\n",
       "</style>\n",
       "<table border=\"1\" class=\"dataframe\">\n",
       "  <thead>\n",
       "    <tr style=\"text-align: right;\">\n",
       "      <th></th>\n",
       "      <th>Date</th>\n",
       "      <th>Power Consumption</th>\n",
       "      <th>Outside temperature</th>\n",
       "    </tr>\n",
       "  </thead>\n",
       "  <tbody>\n",
       "    <tr>\n",
       "      <th>0</th>\n",
       "      <td>2019-08-01</td>\n",
       "      <td>45637.956034</td>\n",
       "      <td>31.6</td>\n",
       "    </tr>\n",
       "    <tr>\n",
       "      <th>1</th>\n",
       "      <td>2019-08-02</td>\n",
       "      <td>42881.051829</td>\n",
       "      <td>29.7</td>\n",
       "    </tr>\n",
       "    <tr>\n",
       "      <th>2</th>\n",
       "      <td>2019-08-03</td>\n",
       "      <td>40699.534163</td>\n",
       "      <td>28.7</td>\n",
       "    </tr>\n",
       "    <tr>\n",
       "      <th>3</th>\n",
       "      <td>2019-08-04</td>\n",
       "      <td>41914.534247</td>\n",
       "      <td>29.9</td>\n",
       "    </tr>\n",
       "    <tr>\n",
       "      <th>4</th>\n",
       "      <td>2019-08-05</td>\n",
       "      <td>40032.420973</td>\n",
       "      <td>30.7</td>\n",
       "    </tr>\n",
       "  </tbody>\n",
       "</table>\n",
       "</div>"
      ],
      "text/plain": [
       "        Date  Power Consumption  Outside temperature\n",
       "0 2019-08-01       45637.956034                 31.6\n",
       "1 2019-08-02       42881.051829                 29.7\n",
       "2 2019-08-03       40699.534163                 28.7\n",
       "3 2019-08-04       41914.534247                 29.9\n",
       "4 2019-08-05       40032.420973                 30.7"
      ]
     },
     "execution_count": 31,
     "metadata": {},
     "output_type": "execute_result"
    }
   ],
   "source": [
    "#vewing data\n",
    "df.head()"
   ]
  },
  {
   "cell_type": "code",
   "execution_count": 32,
   "id": "b6d7b6b9",
   "metadata": {},
   "outputs": [],
   "source": [
    "#checking the two columns for correlation\n",
    "column_1 = df[\"Power Consumption\"]\n",
    "column_2 = df[\"Outside temperature\"]\n",
    "correlation = column_1.corr(column_2)"
   ]
  },
  {
   "cell_type": "code",
   "execution_count": 33,
   "id": "abee63ad",
   "metadata": {},
   "outputs": [
    {
     "data": {
      "text/plain": [
       "0.5006155564787949"
      ]
     },
     "execution_count": 33,
     "metadata": {},
     "output_type": "execute_result"
    }
   ],
   "source": [
    "#finding correlation\n",
    "correlation"
   ]
  },
  {
   "cell_type": "markdown",
   "id": "4f191ce0",
   "metadata": {},
   "source": [
    "The correlation between two columns ie. power consumed and outside temperature is not strong. Hence we can say that AC power consumptionis not strongly connected to outside temerature."
   ]
  },
  {
   "cell_type": "code",
   "execution_count": 34,
   "id": "5140fc5b",
   "metadata": {},
   "outputs": [
    {
     "data": {
      "text/plain": [
       "<AxesSubplot:xlabel='Power Consumption', ylabel='Outside temperature'>"
      ]
     },
     "execution_count": 34,
     "metadata": {},
     "output_type": "execute_result"
    },
    {
     "data": {
      "image/png": "[encoded data removed]",
      "text/plain": [
       "<Figure size 1296x360 with 1 Axes>"
      ]
     },
     "metadata": {
      "needs_background": "light"
     },
     "output_type": "display_data"
    }
   ],
   "source": [
    "#creating the scatter plot between \"Outside temperature\" and \"Power consumption\"\n",
    "df.plot.scatter(x='Power Consumption', y='Outside temperature',figsize=(18, 5))"
   ]
  },
  {
   "cell_type": "markdown",
   "id": "4c547bea",
   "metadata": {},
   "source": [
    "We can observe here that these datapoints do not show any strong correlation, thus we say that power consumption by ACs do not strongly depends on outside temperature."
   ]
  }
 ],
 "metadata": {
  "kernelspec": {
   "display_name": "Python 3",
   "language": "python",
   "name": "python3"
  },
  "language_info": {
   "codemirror_mode": {
    "name": "ipython",
    "version": 3
   },
   "file_extension": ".py",
   "mimetype": "text/x-python",
   "name": "python",
   "nbconvert_exporter": "python",
   "pygments_lexer": "ipython3",
   "version": "3.8.8"
  }
 },
 "nbformat": 4,
 "nbformat_minor": 5
}
